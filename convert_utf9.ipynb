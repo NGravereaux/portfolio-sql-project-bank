{
 "cells": [
  {
   "cell_type": "code",
   "execution_count": 1,
   "metadata": {},
   "outputs": [
    {
     "name": "stdout",
     "output_type": "stream",
     "text": [
      "Requirement already satisfied: pandas in /opt/anaconda3/envs/myenv/lib/python3.12/site-packages (2.2.2)\n",
      "Requirement already satisfied: numpy>=1.26.0 in /opt/anaconda3/envs/myenv/lib/python3.12/site-packages (from pandas) (2.0.0)\n",
      "Requirement already satisfied: python-dateutil>=2.8.2 in /opt/anaconda3/envs/myenv/lib/python3.12/site-packages (from pandas) (2.9.0)\n",
      "Requirement already satisfied: pytz>=2020.1 in /opt/anaconda3/envs/myenv/lib/python3.12/site-packages (from pandas) (2024.1)\n",
      "Requirement already satisfied: tzdata>=2022.7 in /opt/anaconda3/envs/myenv/lib/python3.12/site-packages (from pandas) (2024.1)\n",
      "Requirement already satisfied: six>=1.5 in /opt/anaconda3/envs/myenv/lib/python3.12/site-packages (from python-dateutil>=2.8.2->pandas) (1.16.0)\n",
      "Note: you may need to restart the kernel to use updated packages.\n"
     ]
    }
   ],
   "source": [
    "pip install pandas"
   ]
  },
  {
   "cell_type": "code",
   "execution_count": 2,
   "metadata": {},
   "outputs": [
    {
     "name": "stdout",
     "output_type": "stream",
     "text": [
      "Cleaned data has been saved to 'cleaned_branches.csv'.\n"
     ]
    }
   ],
   "source": [
    "import pandas as pd\n",
    "\n",
    "def remove_non_ascii(text):\n",
    "    return ''.join(char for char in text if ord(char) < 128)\n",
    "\n",
    "# Load your DataFrame from the CSV file\n",
    "df = pd.read_csv('branches.csv')  \n",
    "\n",
    "# Apply the function to all string columns in the DataFrame\n",
    "for column in df.select_dtypes(include=['object']).columns:\n",
    "    df[column] = df[column].apply(remove_non_ascii)\n",
    "\n",
    "# Save the cleaned DataFrame to a new CSV file, ready for import into MySQL Workbench\n",
    "df.to_csv('branches_csv.csv', index=False)\n",
    "\n",
    "print(\"Cleaned data has been saved to 'cleaned_branches.csv'.\")"
   ]
  },
  {
   "cell_type": "code",
   "execution_count": 4,
   "metadata": {},
   "outputs": [
    {
     "name": "stdout",
     "output_type": "stream",
     "text": [
      "Cleaned data has been saved to 'accounts_csv.csv'.\n"
     ]
    }
   ],
   "source": [
    "import pandas as pd\n",
    "\n",
    "def remove_non_ascii(text):\n",
    "    return ''.join(char for char in text if ord(char) < 128)\n",
    "\n",
    "# Load your DataFrame from the CSV file\n",
    "df = pd.read_csv('accountscsv.csv')  \n",
    "\n",
    "# Apply the function to all string columns in the DataFrame\n",
    "for column in df.select_dtypes(include=['object']).columns:\n",
    "    df[column] = df[column].apply(remove_non_ascii)\n",
    "\n",
    "# Save the cleaned DataFrame to a new CSV file, ready for import into MySQL Workbench\n",
    "df.to_csv('accounts_csv.csv', index=False)\n",
    "\n",
    "print(\"Cleaned data has been saved to 'accounts_csv.csv'.\")"
   ]
  },
  {
   "cell_type": "code",
   "execution_count": 5,
   "metadata": {},
   "outputs": [
    {
     "name": "stdout",
     "output_type": "stream",
     "text": [
      "Cleaned data has been saved to 'cards_csv.csv'.\n"
     ]
    }
   ],
   "source": [
    "import pandas as pd\n",
    "\n",
    "def remove_non_ascii(text):\n",
    "    return ''.join(char for char in text if ord(char) < 128)\n",
    "\n",
    "# Load your DataFrame from the CSV file\n",
    "df = pd.read_csv('cards.csv')  \n",
    "\n",
    "# Apply the function to all string columns in the DataFrame\n",
    "for column in df.select_dtypes(include=['object']).columns:\n",
    "    df[column] = df[column].apply(remove_non_ascii)\n",
    "\n",
    "# Save the cleaned DataFrame to a new CSV file, ready for import into MySQL Workbench\n",
    "df.to_csv('cards_csv.csv', index=False)\n",
    "\n",
    "print(\"Cleaned data has been saved to 'cards_csv.csv'.\")"
   ]
  },
  {
   "cell_type": "code",
   "execution_count": 6,
   "metadata": {},
   "outputs": [
    {
     "name": "stdout",
     "output_type": "stream",
     "text": [
      "Cleaned data has been saved to 'employee_csv.csv'.\n"
     ]
    }
   ],
   "source": [
    "import pandas as pd\n",
    "\n",
    "def remove_non_ascii(text):\n",
    "    return ''.join(char for char in text if ord(char) < 128)\n",
    "\n",
    "# Load your DataFrame from the CSV file\n",
    "df = pd.read_csv('employee.csv')  \n",
    "\n",
    "# Apply the function to all string columns in the DataFrame\n",
    "for column in df.select_dtypes(include=['object']).columns:\n",
    "    df[column] = df[column].apply(remove_non_ascii)\n",
    "\n",
    "# Save the cleaned DataFrame to a new CSV file, ready for import into MySQL Workbench\n",
    "df.to_csv('employee_csv.csv', index=False)\n",
    "\n",
    "print(\"Cleaned data has been saved to 'employee_csv.csv'.\")"
   ]
  },
  {
   "cell_type": "code",
   "execution_count": 7,
   "metadata": {},
   "outputs": [
    {
     "name": "stdout",
     "output_type": "stream",
     "text": [
      "Cleaned data has been saved to 'transactions_csv.csv'.\n"
     ]
    }
   ],
   "source": [
    "import pandas as pd\n",
    "\n",
    "def remove_non_ascii(text):\n",
    "    return ''.join(char for char in text if ord(char) < 128)\n",
    "\n",
    "# Load your DataFrame from the CSV file\n",
    "df = pd.read_csv('transactions.csv')  \n",
    "\n",
    "# Apply the function to all string columns in the DataFrame\n",
    "for column in df.select_dtypes(include=['object']).columns:\n",
    "    df[column] = df[column].apply(remove_non_ascii)\n",
    "\n",
    "# Save the cleaned DataFrame to a new CSV file, ready for import into MySQL Workbench\n",
    "df.to_csv('transactions_csv.csv', index=False)\n",
    "\n",
    "print(\"Cleaned data has been saved to 'transactions_csv.csv'.\")"
   ]
  }
 ],
 "metadata": {
  "kernelspec": {
   "display_name": "myenv",
   "language": "python",
   "name": "python3"
  },
  "language_info": {
   "codemirror_mode": {
    "name": "ipython",
    "version": 3
   },
   "file_extension": ".py",
   "mimetype": "text/x-python",
   "name": "python",
   "nbconvert_exporter": "python",
   "pygments_lexer": "ipython3",
   "version": "3.12.4"
  }
 },
 "nbformat": 4,
 "nbformat_minor": 2
}
